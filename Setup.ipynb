{
 "cells": [
  {
   "cell_type": "markdown",
   "metadata": {},
   "source": [
    "# Workflow"
   ]
  },
  {
   "cell_type": "code",
   "execution_count": 3,
   "metadata": {},
   "outputs": [],
   "source": [
    "import pandas as pd"
   ]
  },
  {
   "cell_type": "code",
   "execution_count": 106,
   "metadata": {},
   "outputs": [],
   "source": [
    "import os"
   ]
  },
  {
   "cell_type": "code",
   "execution_count": null,
   "metadata": {},
   "outputs": [],
   "source": [
    "from ecmwfapi import ECMWFService"
   ]
  },
  {
   "cell_type": "code",
   "execution_count": 111,
   "metadata": {},
   "outputs": [],
   "source": [
    "import glob"
   ]
  },
  {
   "cell_type": "markdown",
   "metadata": {},
   "source": [
    "## Define case"
   ]
  },
  {
   "cell_type": "code",
   "execution_count": 38,
   "metadata": {},
   "outputs": [],
   "source": [
    "dic={'minlon': -5. ,\n",
    "     'maxlon': 10.,\n",
    "     'minlat': 32.,\n",
    "     'maxlat': 35.,\n",
    "     'tag': 'eur' ,\n",
    "     'start_date':'2018-1-1',\n",
    "#     'time_frame':'1d',\n",
    "     'end_date': '2018-1-2',\n",
    "     'resolution': .01,\n",
    "     'meteo': 'ecmwf' ,\n",
    "#     'mpath':  ,\n",
    "     'rpath':'./test/',\n",
    "     'WRF_PATH': './'\n",
    "    }"
   ]
  },
  {
   "cell_type": "markdown",
   "metadata": {},
   "source": [
    "### Create case folder"
   ]
  },
  {
   "cell_type": "code",
   "execution_count": null,
   "metadata": {},
   "outputs": [],
   "source": [
    "rpath = dic['rpath']"
   ]
  },
  {
   "cell_type": "code",
   "execution_count": null,
   "metadata": {},
   "outputs": [],
   "source": [
    "wrf_path = dic['WRF_PATH']"
   ]
  },
  {
   "cell_type": "code",
   "execution_count": 108,
   "metadata": {},
   "outputs": [],
   "source": [
    "if not os.path.exists():\n",
    "    os.makedirs(rpath)  # create top folder\n",
    "        \n",
    "if not os.path.exists(rpath+'/wps'):\n",
    "    os.makedirs(rpath+'/wps')  # create wps folder\n",
    "\n",
    "if not os.path.exists(rpath+'/wrf'):\n",
    "        os.makedirs(rpath+'/wrf')  # create wrf folder\n"
   ]
  },
  {
   "cell_type": "code",
   "execution_count": null,
   "metadata": {},
   "outputs": [],
   "source": [
    "#links\n",
    "cfiles = glob.glob(wrf_path+'/WPS/*.exe')\n",
    "for filename in cfiles:\n",
    "    os.symlink(filename,rpath+'/wps/'+filename)\n",
    "\n",
    "os.symlink(wrf_path+'/WPS/geogrid',rpath+'/wps/geogrid')\n",
    "\n",
    "os.symlink(wrf_path+'/WPS/link_grib.csh',rpath+'/wps/link_grib.sh')\n",
    "\n",
    "os.symlink(wrf_path+'/WPS/metgrid/'+self.metgrid, self.wrf_path+'/WPS/metgrid/METGRID.TBL')\n",
    "\n",
    "os.symlink(wrf_path+'/WPS/metgrid',rpath+'/wps/metgrid')\n",
    "\n",
    "#link Vtable\n",
    "os.symlink(wrf_path+'/Vtable',rpath+'/wps/Vtable')\n",
    "        \n",
    "        \n",
    "#setup wrf folder\n",
    "os.symlink(wrf_path+'run',rpath+'/wps/Vtable')\n",
    "\n",
    "\n",
    "cfiles = glob.glob(wrf_path+'/WRFV3/run/*_DATA')\n",
    "for filename in cfiles:\n",
    "    os.symlink(filename,rpath+'/wrf/'+filename)\n",
    "    \n",
    "cfiles = glob.glob(wrf_path+'/WRFV3/run/ETAMP*')\n",
    "for filename in cfiles:\n",
    "    os.symlink(filename,rpath+'/wrf/'+filename)\n",
    "\n",
    "cfiles = glob.glob(wrf_path+'/WRFV3/run/*.TBL')\n",
    "for filename in cfiles:\n",
    "    os.symlink(filename,rpath+'/wrf/'+filename)\n",
    "\n",
    "\n",
    "cfiles = glob.glob(wrf_path+'/WRFV3/run/tr*')\n",
    "for filename in cfiles:\n",
    "    os.symlink(filename,rpath+'/wrf/'+filename)\n",
    "\n",
    "cfiles = glob.glob(wrf_path+'/WRFV3/run/*.txt')\n",
    "for filename in cfiles:\n",
    "    os.symlink(filename,rpath+'/wrf/'+filename)\n",
    "\n",
    "cfiles = glob.glob(wrf_path+'/WRFV3/run/*.tbl')\n",
    "for filename in cfiles:\n",
    "    os.symlink(filename,rpath+'/wrf/'+filename)\n",
    "\n",
    "\n",
    "cfiles = glob.glob(wrf_path+'/WRFV3/run/*.formatted')\n",
    "for filename in cfiles:\n",
    "    os.symlink(filename,rpath+'/wrf/'+filename)\n",
    "\n",
    "cfiles = glob.glob(wrf_path+'/WRFV3/main/*.exe)\n",
    "for filename in cfiles:\n",
    "    os.symlink(filename,rpath+'/wrf/'+filename)\n"
   ]
  },
  {
   "cell_type": "markdown",
   "metadata": {},
   "source": [
    "### Download files from ECMWF"
   ]
  },
  {
   "cell_type": "code",
   "execution_count": null,
   "metadata": {},
   "outputs": [],
   "source": [
    "server = ECMWFService(\"mars\")"
   ]
  },
  {
   "cell_type": "markdown",
   "metadata": {},
   "source": [
    "##### Pressure"
   ]
  },
  {
   "cell_type": "code",
   "execution_count": null,
   "metadata": {},
   "outputs": [],
   "source": [
    "mars =      {\n",
    "    \"class\"     : \"od\",\n",
    "    \"type\"      : \"an\",\n",
    "    \"stream\"    : \"oper\",\n",
    "    \"expver\"    : \"1\",\n",
    "    \"area\"      : \"90.0/-180.0/0.0/180.0\",\n",
    "    \"date\"      : \"20170523/TO/20170603\",\n",
    "    \"time\"      : \"00/06/12/18\",\n",
    "    \"step\"      : \"00/TO/00/by/00\",\n",
    "    \"levtype\"   : \"sfc\",\n",
    "    \"grid\"      : \"0.15/0.15\",\n",
    "    \"levelist\"  : \"off\",\n",
    "    \"param\"     : \"Z/10U/10V/2T/2D/LSM/SP/MSL/SKT/CI/SSTK/SD/STL1/STL2/STL3/STL4/SWVL1/SWVL2/SWVL3/SWVL4\"\n",
    "    \"target\"    : \"PRES_[TYPE]_[DATE]_[TIME]_[STEP].grib\"\n",
    "    }   "
   ]
  },
  {
   "cell_type": "code",
   "execution_count": null,
   "metadata": {},
   "outputs": [],
   "source": [
    "server.retrieve(mars)"
   ]
  },
  {
   "cell_type": "markdown",
   "metadata": {},
   "source": [
    "##### Surface variables"
   ]
  },
  {
   "cell_type": "code",
   "execution_count": null,
   "metadata": {},
   "outputs": [],
   "source": [
    "mars =      {\n",
    "    \"class\"     : \"od\",\n",
    "    \"type\"      : \"an\",\n",
    "    \"stream\"    : \"oper\",\n",
    "    \"expver\"    : \"1\",\n",
    "    \"area\"      : \"90.0/-180.0/0.0/180.0\",\n",
    "    \"date\"      : \"20170523/TO/20170603\",\n",
    "    \"time\"      : \"00/06/12/18\",\n",
    "    \"step\"      : \"00/TO/00/by/00\",\n",
    "    \"levtype\"   : \"sfc\",\n",
    "    \"grid\"      : \"0.15/0.15\",\n",
    "    \"levelist\"  : \"off\",\n",
    "    \"param\"     : \"Z/10U/10V/2T/2D/LSM/SP/MSL/SKT/CI/SSTK/SD/STL1/STL2/STL3/STL4/SWVL1/SWVL2/SWVL3/SWVL4\"\n",
    "    \"target\"    : \"SFC_[TYPE]_[DATE]_[TIME]_[STEP].grib\"\n",
    "    }   "
   ]
  },
  {
   "cell_type": "code",
   "execution_count": null,
   "metadata": {},
   "outputs": [],
   "source": [
    "server.retrieve(mars)"
   ]
  },
  {
   "cell_type": "markdown",
   "metadata": {},
   "source": [
    "### Namelist file"
   ]
  },
  {
   "cell_type": "markdown",
   "metadata": {},
   "source": [
    "#### read default"
   ]
  },
  {
   "cell_type": "code",
   "execution_count": 50,
   "metadata": {},
   "outputs": [],
   "source": [
    "wps=pd.read_csv('namelist.wps', sep='=', comment='!', skiprows=1, header=None).dropna()"
   ]
  },
  {
   "cell_type": "code",
   "execution_count": 51,
   "metadata": {},
   "outputs": [],
   "source": [
    "wps = wps.set_index(wps.columns[0])"
   ]
  },
  {
   "cell_type": "code",
   "execution_count": 52,
   "metadata": {},
   "outputs": [
    {
     "data": {
      "text/html": [
       "<div>\n",
       "<style scoped>\n",
       "    .dataframe tbody tr th:only-of-type {\n",
       "        vertical-align: middle;\n",
       "    }\n",
       "\n",
       "    .dataframe tbody tr th {\n",
       "        vertical-align: top;\n",
       "    }\n",
       "\n",
       "    .dataframe thead th {\n",
       "        text-align: right;\n",
       "    }\n",
       "</style>\n",
       "<table border=\"1\" class=\"dataframe\">\n",
       "  <thead>\n",
       "    <tr style=\"text-align: right;\">\n",
       "      <th></th>\n",
       "      <th>1</th>\n",
       "    </tr>\n",
       "    <tr>\n",
       "      <th>0</th>\n",
       "      <th></th>\n",
       "    </tr>\n",
       "  </thead>\n",
       "  <tbody>\n",
       "    <tr>\n",
       "      <th>wrf_core</th>\n",
       "      <td>'ARW',</td>\n",
       "    </tr>\n",
       "    <tr>\n",
       "      <th>max_dom</th>\n",
       "      <td>2,</td>\n",
       "    </tr>\n",
       "    <tr>\n",
       "      <th>start_date</th>\n",
       "      <td>'2006-08-16_12:00:00','2006-08-16_12:00:00',</td>\n",
       "    </tr>\n",
       "    <tr>\n",
       "      <th>end_date</th>\n",
       "      <td>'2006-08-16_18:00:00','2006-08-16_12:00:00',</td>\n",
       "    </tr>\n",
       "    <tr>\n",
       "      <th>interval_seconds</th>\n",
       "      <td>21600</td>\n",
       "    </tr>\n",
       "    <tr>\n",
       "      <th>io_form_geogrid</th>\n",
       "      <td>2,</td>\n",
       "    </tr>\n",
       "    <tr>\n",
       "      <th>parent_id</th>\n",
       "      <td>1,   1,</td>\n",
       "    </tr>\n",
       "    <tr>\n",
       "      <th>parent_grid_ratio</th>\n",
       "      <td>1,   3,</td>\n",
       "    </tr>\n",
       "    <tr>\n",
       "      <th>i_parent_start</th>\n",
       "      <td>1,  31,</td>\n",
       "    </tr>\n",
       "    <tr>\n",
       "      <th>j_parent_start</th>\n",
       "      <td>1,  17,</td>\n",
       "    </tr>\n",
       "    <tr>\n",
       "      <th>e_we</th>\n",
       "      <td>74, 112,</td>\n",
       "    </tr>\n",
       "    <tr>\n",
       "      <th>e_sn</th>\n",
       "      <td>61,  97,</td>\n",
       "    </tr>\n",
       "    <tr>\n",
       "      <th>geog_data_res</th>\n",
       "      <td>'default','default',</td>\n",
       "    </tr>\n",
       "    <tr>\n",
       "      <th>dx</th>\n",
       "      <td>30000,</td>\n",
       "    </tr>\n",
       "    <tr>\n",
       "      <th>dy</th>\n",
       "      <td>30000,</td>\n",
       "    </tr>\n",
       "    <tr>\n",
       "      <th>map_proj</th>\n",
       "      <td>'lambert',</td>\n",
       "    </tr>\n",
       "    <tr>\n",
       "      <th>ref_lat</th>\n",
       "      <td>34.83,</td>\n",
       "    </tr>\n",
       "    <tr>\n",
       "      <th>ref_lon</th>\n",
       "      <td>-81.03,</td>\n",
       "    </tr>\n",
       "    <tr>\n",
       "      <th>truelat1</th>\n",
       "      <td>30.0,</td>\n",
       "    </tr>\n",
       "    <tr>\n",
       "      <th>truelat2</th>\n",
       "      <td>60.0,</td>\n",
       "    </tr>\n",
       "    <tr>\n",
       "      <th>stand_lon</th>\n",
       "      <td>-98.0,</td>\n",
       "    </tr>\n",
       "    <tr>\n",
       "      <th>geog_data_path</th>\n",
       "      <td>'/glade/p/work/wrfhelp/WPS_GEOG/'</td>\n",
       "    </tr>\n",
       "    <tr>\n",
       "      <th>out_format</th>\n",
       "      <td>'WPS',</td>\n",
       "    </tr>\n",
       "    <tr>\n",
       "      <th>prefix</th>\n",
       "      <td>'FILE',</td>\n",
       "    </tr>\n",
       "    <tr>\n",
       "      <th>fg_name</th>\n",
       "      <td>'FILE'</td>\n",
       "    </tr>\n",
       "    <tr>\n",
       "      <th>io_form_metgrid</th>\n",
       "      <td>2,</td>\n",
       "    </tr>\n",
       "  </tbody>\n",
       "</table>\n",
       "</div>"
      ],
      "text/plain": [
       "                                                                 1\n",
       "0                                                                 \n",
       " wrf_core                                                   'ARW',\n",
       " max_dom                                                        2,\n",
       " start_date           '2006-08-16_12:00:00','2006-08-16_12:00:00',\n",
       " end_date             '2006-08-16_18:00:00','2006-08-16_12:00:00',\n",
       " interval_seconds                                            21600\n",
       " io_form_geogrid                                                2,\n",
       " parent_id                                                 1,   1,\n",
       " parent_grid_ratio                                         1,   3,\n",
       " i_parent_start                                            1,  31,\n",
       " j_parent_start                                            1,  17,\n",
       " e_we                                                     74, 112,\n",
       " e_sn                                                     61,  97,\n",
       " geog_data_res                                'default','default',\n",
       " dx                                                         30000,\n",
       " dy                                                         30000,\n",
       " map_proj                                               'lambert',\n",
       " ref_lat                                                    34.83,\n",
       " ref_lon                                                   -81.03,\n",
       " truelat1                                                    30.0,\n",
       " truelat2                                                    60.0,\n",
       " stand_lon                                                  -98.0,\n",
       " geog_data_path                  '/glade/p/work/wrfhelp/WPS_GEOG/'\n",
       " out_format                                                 'WPS',\n",
       " prefix                                                    'FILE',\n",
       " fg_name                                                    'FILE'\n",
       " io_form_metgrid                                               2, "
      ]
     },
     "execution_count": 52,
     "metadata": {},
     "output_type": "execute_result"
    }
   ],
   "source": [
    "wps"
   ]
  },
  {
   "cell_type": "code",
   "execution_count": 53,
   "metadata": {},
   "outputs": [],
   "source": [
    "wps.index = wps.index.str.strip()"
   ]
  },
  {
   "cell_type": "markdown",
   "metadata": {},
   "source": [
    "#### update with current values"
   ]
  },
  {
   "cell_type": "code",
   "execution_count": 54,
   "metadata": {},
   "outputs": [
    {
     "data": {
      "text/plain": [
       "Timestamp('2018-01-01 00:00:00')"
      ]
     },
     "execution_count": 54,
     "metadata": {},
     "output_type": "execute_result"
    }
   ],
   "source": [
    "start_date = pd.to_datetime(dic['start_date'])\n",
    "start_date"
   ]
  },
  {
   "cell_type": "code",
   "execution_count": 55,
   "metadata": {},
   "outputs": [
    {
     "data": {
      "text/plain": [
       "Timestamp('2018-01-01 00:00:00')"
      ]
     },
     "execution_count": 55,
     "metadata": {},
     "output_type": "execute_result"
    }
   ],
   "source": [
    "end_date = pd.to_datetime(dic['start_date'])\n",
    "end_date"
   ]
  },
  {
   "cell_type": "code",
   "execution_count": 56,
   "metadata": {},
   "outputs": [
    {
     "name": "stdout",
     "output_type": "stream",
     "text": [
      "1     '2006-08-16_12:00:00','2006-08-16_12:00:00',\n",
      "Name: start_date, dtype: object\n",
      "1    '2018-01-01_00:00:00','2018-01-01_00:00:00'\n",
      "Name: start_date, dtype: object\n"
     ]
    }
   ],
   "source": [
    "wps.loc['start_date']='{},{}'.format(start_date.strftime(\"'%Y-%m-%d_%H:%M:%S'\"),end_date.strftime(\"'%Y-%m-%d_%H:%M:%S'\"))"
   ]
  },
  {
   "cell_type": "code",
   "execution_count": 70,
   "metadata": {},
   "outputs": [],
   "source": [
    "wps.loc['geog_data_path'] =\"'{}'\".format(dic['WRF_PATH']+'/WPS_GEOG/')"
   ]
  },
  {
   "cell_type": "code",
   "execution_count": 66,
   "metadata": {},
   "outputs": [],
   "source": [
    "wps.loc['map_proj'] = \"'lat-lon'\""
   ]
  },
  {
   "cell_type": "code",
   "execution_count": 109,
   "metadata": {},
   "outputs": [],
   "source": [
    "wps.loc['prefix'] = \"'PRES'\""
   ]
  },
  {
   "cell_type": "code",
   "execution_count": 110,
   "metadata": {},
   "outputs": [
    {
     "data": {
      "text/html": [
       "<div>\n",
       "<style scoped>\n",
       "    .dataframe tbody tr th:only-of-type {\n",
       "        vertical-align: middle;\n",
       "    }\n",
       "\n",
       "    .dataframe tbody tr th {\n",
       "        vertical-align: top;\n",
       "    }\n",
       "\n",
       "    .dataframe thead th {\n",
       "        text-align: right;\n",
       "    }\n",
       "</style>\n",
       "<table border=\"1\" class=\"dataframe\">\n",
       "  <thead>\n",
       "    <tr style=\"text-align: right;\">\n",
       "      <th></th>\n",
       "      <th>1</th>\n",
       "    </tr>\n",
       "  </thead>\n",
       "  <tbody>\n",
       "    <tr>\n",
       "      <th>wrf_core</th>\n",
       "      <td>'ARW',</td>\n",
       "    </tr>\n",
       "    <tr>\n",
       "      <th>max_dom</th>\n",
       "      <td>2,</td>\n",
       "    </tr>\n",
       "    <tr>\n",
       "      <th>start_date</th>\n",
       "      <td>'2018-01-01_00:00:00','2018-01-01_00:00:00'</td>\n",
       "    </tr>\n",
       "    <tr>\n",
       "      <th>end_date</th>\n",
       "      <td>'2006-08-16_18:00:00','2006-08-16_12:00:00',</td>\n",
       "    </tr>\n",
       "    <tr>\n",
       "      <th>interval_seconds</th>\n",
       "      <td>21600</td>\n",
       "    </tr>\n",
       "    <tr>\n",
       "      <th>io_form_geogrid</th>\n",
       "      <td>2,</td>\n",
       "    </tr>\n",
       "    <tr>\n",
       "      <th>parent_id</th>\n",
       "      <td>1,   1,</td>\n",
       "    </tr>\n",
       "    <tr>\n",
       "      <th>parent_grid_ratio</th>\n",
       "      <td>1,   3,</td>\n",
       "    </tr>\n",
       "    <tr>\n",
       "      <th>i_parent_start</th>\n",
       "      <td>1,  31,</td>\n",
       "    </tr>\n",
       "    <tr>\n",
       "      <th>j_parent_start</th>\n",
       "      <td>1,  17,</td>\n",
       "    </tr>\n",
       "    <tr>\n",
       "      <th>e_we</th>\n",
       "      <td>74, 112,</td>\n",
       "    </tr>\n",
       "    <tr>\n",
       "      <th>e_sn</th>\n",
       "      <td>61,  97,</td>\n",
       "    </tr>\n",
       "    <tr>\n",
       "      <th>geog_data_res</th>\n",
       "      <td>'default','default',</td>\n",
       "    </tr>\n",
       "    <tr>\n",
       "      <th>dx</th>\n",
       "      <td>30000,</td>\n",
       "    </tr>\n",
       "    <tr>\n",
       "      <th>dy</th>\n",
       "      <td>30000,</td>\n",
       "    </tr>\n",
       "    <tr>\n",
       "      <th>map_proj</th>\n",
       "      <td>'lat-lon'</td>\n",
       "    </tr>\n",
       "    <tr>\n",
       "      <th>ref_lat</th>\n",
       "      <td>34.83,</td>\n",
       "    </tr>\n",
       "    <tr>\n",
       "      <th>ref_lon</th>\n",
       "      <td>-81.03,</td>\n",
       "    </tr>\n",
       "    <tr>\n",
       "      <th>truelat1</th>\n",
       "      <td>30.0,</td>\n",
       "    </tr>\n",
       "    <tr>\n",
       "      <th>truelat2</th>\n",
       "      <td>60.0,</td>\n",
       "    </tr>\n",
       "    <tr>\n",
       "      <th>stand_lon</th>\n",
       "      <td>-98.0,</td>\n",
       "    </tr>\n",
       "    <tr>\n",
       "      <th>geog_data_path</th>\n",
       "      <td>'.//WPS_GEOG/'</td>\n",
       "    </tr>\n",
       "    <tr>\n",
       "      <th>out_format</th>\n",
       "      <td>'WPS',</td>\n",
       "    </tr>\n",
       "    <tr>\n",
       "      <th>prefix</th>\n",
       "      <td>'FILE',</td>\n",
       "    </tr>\n",
       "    <tr>\n",
       "      <th>fg_name</th>\n",
       "      <td>'FILE'</td>\n",
       "    </tr>\n",
       "    <tr>\n",
       "      <th>io_form_metgrid</th>\n",
       "      <td>2,</td>\n",
       "    </tr>\n",
       "    <tr>\n",
       "      <th>prefix</th>\n",
       "      <td>'PRES'</td>\n",
       "    </tr>\n",
       "  </tbody>\n",
       "</table>\n",
       "</div>"
      ],
      "text/plain": [
       "                                                                  1\n",
       "  wrf_core                                                   'ARW',\n",
       "  max_dom                                                        2,\n",
       "  start_date            '2018-01-01_00:00:00','2018-01-01_00:00:00'\n",
       "  end_date             '2006-08-16_18:00:00','2006-08-16_12:00:00',\n",
       "  interval_seconds                                            21600\n",
       "  io_form_geogrid                                                2,\n",
       "  parent_id                                                 1,   1,\n",
       "  parent_grid_ratio                                         1,   3,\n",
       "  i_parent_start                                            1,  31,\n",
       "  j_parent_start                                            1,  17,\n",
       "  e_we                                                     74, 112,\n",
       "  e_sn                                                     61,  97,\n",
       "  geog_data_res                                'default','default',\n",
       "  dx                                                         30000,\n",
       "  dy                                                         30000,\n",
       "  map_proj                                                'lat-lon'\n",
       "  ref_lat                                                    34.83,\n",
       "  ref_lon                                                   -81.03,\n",
       "  truelat1                                                    30.0,\n",
       "  truelat2                                                    60.0,\n",
       "  stand_lon                                                  -98.0,\n",
       "  geog_data_path                                     './/WPS_GEOG/'\n",
       "  out_format                                                 'WPS',\n",
       "  prefix                                                    'FILE',\n",
       "  fg_name                                                    'FILE'\n",
       "  io_form_metgrid                                               2, \n",
       "prefix                                                       'PRES'"
      ]
     },
     "execution_count": 110,
     "metadata": {},
     "output_type": "execute_result"
    }
   ],
   "source": [
    "wps"
   ]
  },
  {
   "cell_type": "code",
   "execution_count": 102,
   "metadata": {},
   "outputs": [],
   "source": [
    "wps.index = [' '+name+' ' for name in wps.index] # fix index to much namelist format"
   ]
  },
  {
   "cell_type": "markdown",
   "metadata": {},
   "source": [
    "#### output"
   ]
  },
  {
   "cell_type": "code",
   "execution_count": 104,
   "metadata": {},
   "outputs": [],
   "source": [
    "filename = dic['rpath']+'/namelist.mdf'"
   ]
  },
  {
   "cell_type": "code",
   "execution_count": 105,
   "metadata": {},
   "outputs": [],
   "source": [
    "with open(filename,'w') as f:\n",
    "    f.write('&share\\n')\n",
    "    wps.iloc[:6].to_csv(f,sep='=', header=None)\n",
    "    f.write('/\\n')\n",
    "    f.write('\\n&geogrid\\n')\n",
    "    wps.iloc[6:22].to_csv(f,sep='=', header=None)\n",
    "    f.write('/\\n')\n",
    "    f.write('\\n&ungrib\\n')\n",
    "    wps.iloc[22:24].to_csv(f,sep='=', header=None)\n",
    "    f.write('/\\n')\n",
    "    f.write('\\n&metgrid\\n')\n",
    "    wps.iloc[24:].to_csv(f,sep='=', header=None)\n",
    "    f.write('/\\n')"
   ]
  },
  {
   "cell_type": "markdown",
   "metadata": {},
   "source": [
    "### run ungrib for PRES"
   ]
  },
  {
   "cell_type": "code",
   "execution_count": null,
   "metadata": {},
   "outputs": [],
   "source": [
    "ex=subprocess.Popen(args=['./geogrid.exe'], cwd=rpath+'/wps/', shell=True, stderr=subprocess.PIPE, stdout=subprocess.PIPE, bufsize=1)\n",
    "for line in iter(ex.stdout.readline,b''): \n",
    "    sys.stdout.write(line)\n",
    "    sys.stdout.flush()  \n",
    "ex.stdout.close()            "
   ]
  },
  {
   "cell_type": "markdown",
   "metadata": {},
   "source": [
    "### run link for PRES"
   ]
  },
  {
   "cell_type": "code",
   "execution_count": null,
   "metadata": {},
   "outputs": [],
   "source": [
    "files = "
   ]
  },
  {
   "cell_type": "code",
   "execution_count": null,
   "metadata": {},
   "outputs": [],
   "source": [
    "ex=subprocess.Popen(args=['./link_grib.sh {}'.format(path)], cwd=rpath+'/wps/', shell=True, stderr=subprocess.PIPE, stdout=subprocess.PIPE, bufsize=1)\n",
    "for line in iter(ex.stdout.readline,b''): \n",
    "    sys.stdout.write(line)\n",
    "    sys.stdout.flush()  \n",
    "ex.stdout.close()            "
   ]
  },
  {
   "cell_type": "code",
   "execution_count": null,
   "metadata": {},
   "outputs": [],
   "source": [
    "./link_grib.sh $current_dir/$data_path/DATA/EPRES_HEMI*"
   ]
  },
  {
   "cell_type": "markdown",
   "metadata": {},
   "source": [
    "### run ungrib for PRES"
   ]
  },
  {
   "cell_type": "code",
   "execution_count": null,
   "metadata": {},
   "outputs": [],
   "source": [
    "ex=subprocess.Popen(args=['./ungrib.exe'], cwd=rpath+'/wps/', shell=True, stderr=subprocess.PIPE, stdout=subprocess.PIPE, bufsize=1)\n",
    "for line in iter(ex.stdout.readline,b''): \n",
    "    sys.stdout.write(line)\n",
    "    sys.stdout.flush()  \n",
    "ex.stdout.close()            "
   ]
  },
  {
   "cell_type": "markdown",
   "metadata": {},
   "source": [
    "#### Clean up"
   ]
  },
  {
   "cell_type": "code",
   "execution_count": null,
   "metadata": {},
   "outputs": [],
   "source": [
    "links = glob.glob(rpath+'/wps/GRIBFILE.*')\n",
    "for link in links:\n",
    "    os.remove(link)\n"
   ]
  },
  {
   "cell_type": "markdown",
   "metadata": {},
   "source": [
    "### run ungrib for SFC"
   ]
  },
  {
   "cell_type": "code",
   "execution_count": 109,
   "metadata": {},
   "outputs": [],
   "source": [
    "wps.loc['prefix'] = \"'SFC'\""
   ]
  },
  {
   "cell_type": "code",
   "execution_count": 105,
   "metadata": {},
   "outputs": [],
   "source": [
    "with open(filename,'w') as f:\n",
    "    f.write('&share\\n')\n",
    "    wps.iloc[:6].to_csv(f,sep='=', header=None)\n",
    "    f.write('/\\n')\n",
    "    f.write('\\n&geogrid\\n')\n",
    "    wps.iloc[6:22].to_csv(f,sep='=', header=None)\n",
    "    f.write('/\\n')\n",
    "    f.write('\\n&ungrib\\n')\n",
    "    wps.iloc[22:24].to_csv(f,sep='=', header=None)\n",
    "    f.write('/\\n')\n",
    "    f.write('\\n&metgrid\\n')\n",
    "    wps.iloc[24:].to_csv(f,sep='=', header=None)\n",
    "    f.write('/\\n')"
   ]
  },
  {
   "cell_type": "code",
   "execution_count": null,
   "metadata": {},
   "outputs": [],
   "source": [
    "ex=subprocess.Popen(args=['./geogrid.exe'], cwd=rpath+'/wps/', shell=True, stderr=subprocess.PIPE, stdout=subprocess.PIPE, bufsize=1)\n",
    "for line in iter(ex.stdout.readline,b''): \n",
    "    sys.stdout.write(line)\n",
    "    sys.stdout.flush()  \n",
    "ex.stdout.close()            "
   ]
  },
  {
   "cell_type": "markdown",
   "metadata": {},
   "source": [
    "### run link for SFC"
   ]
  },
  {
   "cell_type": "code",
   "execution_count": null,
   "metadata": {},
   "outputs": [],
   "source": [
    "files = "
   ]
  },
  {
   "cell_type": "code",
   "execution_count": null,
   "metadata": {},
   "outputs": [],
   "source": [
    "ex=subprocess.Popen(args=['./link_grib.sh {}'.format(path)], cwd=rpath+'/wps/', shell=True, stderr=subprocess.PIPE, stdout=subprocess.PIPE, bufsize=1)\n",
    "for line in iter(ex.stdout.readline,b''): \n",
    "    sys.stdout.write(line)\n",
    "    sys.stdout.flush()  \n",
    "ex.stdout.close()            "
   ]
  },
  {
   "cell_type": "code",
   "execution_count": null,
   "metadata": {},
   "outputs": [],
   "source": [
    "./link_grib.sh $current_dir/$data_path/DATA/EPRES_HEMI*"
   ]
  },
  {
   "cell_type": "markdown",
   "metadata": {},
   "source": [
    "### run ungrib for SFC"
   ]
  },
  {
   "cell_type": "code",
   "execution_count": null,
   "metadata": {},
   "outputs": [],
   "source": [
    "ex=subprocess.Popen(args=['./ungrib.exe'], cwd=rpath+'/wps/', shell=True, stderr=subprocess.PIPE, stdout=subprocess.PIPE, bufsize=1)\n",
    "for line in iter(ex.stdout.readline,b''): \n",
    "    sys.stdout.write(line)\n",
    "    sys.stdout.flush()  \n",
    "ex.stdout.close()            "
   ]
  },
  {
   "cell_type": "markdown",
   "metadata": {},
   "source": [
    "#### Clean up"
   ]
  },
  {
   "cell_type": "code",
   "execution_count": null,
   "metadata": {},
   "outputs": [],
   "source": [
    "links = glob.glob(rpath+'/wps/GRIBFILE.*')\n",
    "for link in links:\n",
    "    os.remove(link)\n"
   ]
  },
  {
   "cell_type": "markdown",
   "metadata": {},
   "source": [
    "### execute metgrid \n",
    "\n"
   ]
  },
  {
   "cell_type": "code",
   "execution_count": null,
   "metadata": {},
   "outputs": [],
   "source": [
    "ex=subprocess.Popen(args=['./metgrid.exe'], cwd=rpath+'/wps/', shell=True, stderr=subprocess.PIPE, stdout=subprocess.PIPE, bufsize=1)\n",
    "for line in iter(ex.stdout.readline,b''): \n",
    "    sys.stdout.write(line)\n",
    "    sys.stdout.flush()  \n",
    "ex.stdout.close()      "
   ]
  },
  {
   "cell_type": "markdown",
   "metadata": {},
   "source": [
    "### Namelist.input file"
   ]
  },
  {
   "cell_type": "code",
   "execution_count": 25,
   "metadata": {},
   "outputs": [],
   "source": [
    "wrf=pd.read_csv('namelist.input', sep='=', comment='!', skiprows=1, header=None).dropna()"
   ]
  },
  {
   "cell_type": "code",
   "execution_count": 28,
   "metadata": {},
   "outputs": [],
   "source": [
    "wrf = wrf.set_index(wrf.columns[0])"
   ]
  },
  {
   "cell_type": "code",
   "execution_count": 29,
   "metadata": {},
   "outputs": [
    {
     "data": {
      "text/html": [
       "<div>\n",
       "<style scoped>\n",
       "    .dataframe tbody tr th:only-of-type {\n",
       "        vertical-align: middle;\n",
       "    }\n",
       "\n",
       "    .dataframe tbody tr th {\n",
       "        vertical-align: top;\n",
       "    }\n",
       "\n",
       "    .dataframe thead th {\n",
       "        text-align: right;\n",
       "    }\n",
       "</style>\n",
       "<table border=\"1\" class=\"dataframe\">\n",
       "  <thead>\n",
       "    <tr style=\"text-align: right;\">\n",
       "      <th></th>\n",
       "      <th>1</th>\n",
       "    </tr>\n",
       "    <tr>\n",
       "      <th>0</th>\n",
       "      <th></th>\n",
       "    </tr>\n",
       "  </thead>\n",
       "  <tbody>\n",
       "    <tr>\n",
       "      <th>run_days</th>\n",
       "      <td>0,</td>\n",
       "    </tr>\n",
       "    <tr>\n",
       "      <th>run_hours</th>\n",
       "      <td>12,</td>\n",
       "    </tr>\n",
       "    <tr>\n",
       "      <th>run_minutes</th>\n",
       "      <td>0,</td>\n",
       "    </tr>\n",
       "    <tr>\n",
       "      <th>run_seconds</th>\n",
       "      <td>0,</td>\n",
       "    </tr>\n",
       "    <tr>\n",
       "      <th>start_year</th>\n",
       "      <td>2000, 2000, 2000,</td>\n",
       "    </tr>\n",
       "    <tr>\n",
       "      <th>start_month</th>\n",
       "      <td>01,   01,   01,</td>\n",
       "    </tr>\n",
       "    <tr>\n",
       "      <th>start_day</th>\n",
       "      <td>24,   24,   24,</td>\n",
       "    </tr>\n",
       "    <tr>\n",
       "      <th>start_hour</th>\n",
       "      <td>12,   12,   12,</td>\n",
       "    </tr>\n",
       "    <tr>\n",
       "      <th>start_minute</th>\n",
       "      <td>00,   00,   00,</td>\n",
       "    </tr>\n",
       "    <tr>\n",
       "      <th>start_second</th>\n",
       "      <td>00,   00,   00,</td>\n",
       "    </tr>\n",
       "    <tr>\n",
       "      <th>end_year</th>\n",
       "      <td>2000, 2000, 2000,</td>\n",
       "    </tr>\n",
       "    <tr>\n",
       "      <th>end_month</th>\n",
       "      <td>01,   01,   01,</td>\n",
       "    </tr>\n",
       "    <tr>\n",
       "      <th>end_day</th>\n",
       "      <td>25,   25,   25,</td>\n",
       "    </tr>\n",
       "    <tr>\n",
       "      <th>end_hour</th>\n",
       "      <td>12,   12,   12,</td>\n",
       "    </tr>\n",
       "    <tr>\n",
       "      <th>end_minute</th>\n",
       "      <td>00,   00,   00,</td>\n",
       "    </tr>\n",
       "    <tr>\n",
       "      <th>end_second</th>\n",
       "      <td>00,   00,   00,</td>\n",
       "    </tr>\n",
       "    <tr>\n",
       "      <th>interval_seconds</th>\n",
       "      <td>21600</td>\n",
       "    </tr>\n",
       "    <tr>\n",
       "      <th>input_from_file</th>\n",
       "      <td>.true.,.true.,.true.,</td>\n",
       "    </tr>\n",
       "    <tr>\n",
       "      <th>history_interval</th>\n",
       "      <td>180,  60,   60,</td>\n",
       "    </tr>\n",
       "    <tr>\n",
       "      <th>frames_per_outfile</th>\n",
       "      <td>1000, 1000, 1000,</td>\n",
       "    </tr>\n",
       "    <tr>\n",
       "      <th>restart</th>\n",
       "      <td>.false.,</td>\n",
       "    </tr>\n",
       "    <tr>\n",
       "      <th>restart_interval</th>\n",
       "      <td>5000,</td>\n",
       "    </tr>\n",
       "    <tr>\n",
       "      <th>io_form_history</th>\n",
       "      <td>2</td>\n",
       "    </tr>\n",
       "    <tr>\n",
       "      <th>io_form_restart</th>\n",
       "      <td>2</td>\n",
       "    </tr>\n",
       "    <tr>\n",
       "      <th>io_form_input</th>\n",
       "      <td>2</td>\n",
       "    </tr>\n",
       "    <tr>\n",
       "      <th>io_form_boundary</th>\n",
       "      <td>2</td>\n",
       "    </tr>\n",
       "    <tr>\n",
       "      <th>debug_level</th>\n",
       "      <td>0</td>\n",
       "    </tr>\n",
       "    <tr>\n",
       "      <th>time_step</th>\n",
       "      <td>180,</td>\n",
       "    </tr>\n",
       "    <tr>\n",
       "      <th>time_step_fract_num</th>\n",
       "      <td>0,</td>\n",
       "    </tr>\n",
       "    <tr>\n",
       "      <th>time_step_fract_den</th>\n",
       "      <td>1,</td>\n",
       "    </tr>\n",
       "    <tr>\n",
       "      <th>...</th>\n",
       "      <td>...</td>\n",
       "    </tr>\n",
       "    <tr>\n",
       "      <th>physics_suite</th>\n",
       "      <td>'CONUS'</td>\n",
       "    </tr>\n",
       "    <tr>\n",
       "      <th>radt</th>\n",
       "      <td>30,    30,    30,</td>\n",
       "    </tr>\n",
       "    <tr>\n",
       "      <th>bldt</th>\n",
       "      <td>0,     0,     0,</td>\n",
       "    </tr>\n",
       "    <tr>\n",
       "      <th>cudt</th>\n",
       "      <td>5,     5,     5,</td>\n",
       "    </tr>\n",
       "    <tr>\n",
       "      <th>icloud</th>\n",
       "      <td>1,</td>\n",
       "    </tr>\n",
       "    <tr>\n",
       "      <th>num_soil_layers</th>\n",
       "      <td>4,</td>\n",
       "    </tr>\n",
       "    <tr>\n",
       "      <th>num_land_cat</th>\n",
       "      <td>21,</td>\n",
       "    </tr>\n",
       "    <tr>\n",
       "      <th>sf_urban_physics</th>\n",
       "      <td>0,     0,     0,</td>\n",
       "    </tr>\n",
       "    <tr>\n",
       "      <th>w_damping</th>\n",
       "      <td>0,</td>\n",
       "    </tr>\n",
       "    <tr>\n",
       "      <th>diff_opt</th>\n",
       "      <td>1,      1,      1,</td>\n",
       "    </tr>\n",
       "    <tr>\n",
       "      <th>km_opt</th>\n",
       "      <td>4,      4,      4,</td>\n",
       "    </tr>\n",
       "    <tr>\n",
       "      <th>diff_6th_opt</th>\n",
       "      <td>0,      0,      0,</td>\n",
       "    </tr>\n",
       "    <tr>\n",
       "      <th>diff_6th_factor</th>\n",
       "      <td>0.12,   0.12,   0.12,</td>\n",
       "    </tr>\n",
       "    <tr>\n",
       "      <th>base_temp</th>\n",
       "      <td>290.</td>\n",
       "    </tr>\n",
       "    <tr>\n",
       "      <th>damp_opt</th>\n",
       "      <td>0,</td>\n",
       "    </tr>\n",
       "    <tr>\n",
       "      <th>zdamp</th>\n",
       "      <td>5000.,  5000.,  5000.,</td>\n",
       "    </tr>\n",
       "    <tr>\n",
       "      <th>dampcoef</th>\n",
       "      <td>0.2,    0.2,    0.2</td>\n",
       "    </tr>\n",
       "    <tr>\n",
       "      <th>khdif</th>\n",
       "      <td>0,      0,      0,</td>\n",
       "    </tr>\n",
       "    <tr>\n",
       "      <th>kvdif</th>\n",
       "      <td>0,      0,      0,</td>\n",
       "    </tr>\n",
       "    <tr>\n",
       "      <th>non_hydrostatic</th>\n",
       "      <td>.true., .true., .true.,</td>\n",
       "    </tr>\n",
       "    <tr>\n",
       "      <th>moist_adv_opt</th>\n",
       "      <td>1,      1,      1,</td>\n",
       "    </tr>\n",
       "    <tr>\n",
       "      <th>scalar_adv_opt</th>\n",
       "      <td>1,      1,      1,</td>\n",
       "    </tr>\n",
       "    <tr>\n",
       "      <th>gwd_opt</th>\n",
       "      <td>1,</td>\n",
       "    </tr>\n",
       "    <tr>\n",
       "      <th>spec_bdy_width</th>\n",
       "      <td>5,</td>\n",
       "    </tr>\n",
       "    <tr>\n",
       "      <th>spec_zone</th>\n",
       "      <td>1,</td>\n",
       "    </tr>\n",
       "    <tr>\n",
       "      <th>relax_zone</th>\n",
       "      <td>4,</td>\n",
       "    </tr>\n",
       "    <tr>\n",
       "      <th>specified</th>\n",
       "      <td>.true., .false.,.false.,</td>\n",
       "    </tr>\n",
       "    <tr>\n",
       "      <th>nested</th>\n",
       "      <td>.false., .true., .true.,</td>\n",
       "    </tr>\n",
       "    <tr>\n",
       "      <th>nio_tasks_per_group</th>\n",
       "      <td>0,</td>\n",
       "    </tr>\n",
       "    <tr>\n",
       "      <th>nio_groups</th>\n",
       "      <td>1,</td>\n",
       "    </tr>\n",
       "  </tbody>\n",
       "</table>\n",
       "<p>77 rows × 1 columns</p>\n",
       "</div>"
      ],
      "text/plain": [
       "                                                               1\n",
       "0                                                               \n",
       " run_days                                                     0,\n",
       " run_hours                                                   12,\n",
       " run_minutes                                                  0,\n",
       " run_seconds                                                  0,\n",
       " start_year                                    2000, 2000, 2000,\n",
       " start_month                                     01,   01,   01,\n",
       " start_day                                       24,   24,   24,\n",
       " start_hour                                      12,   12,   12,\n",
       " start_minute                                    00,   00,   00,\n",
       " start_second                                    00,   00,   00,\n",
       " end_year                                      2000, 2000, 2000,\n",
       " end_month                                       01,   01,   01,\n",
       " end_day                                         25,   25,   25,\n",
       " end_hour                                        12,   12,   12,\n",
       " end_minute                                      00,   00,   00,\n",
       " end_second                                      00,   00,   00,\n",
       " interval_seconds                                          21600\n",
       " input_from_file                           .true.,.true.,.true.,\n",
       " history_interval                                180,  60,   60,\n",
       " frames_per_outfile                            1000, 1000, 1000,\n",
       " restart                                                .false.,\n",
       " restart_interval                                          5000,\n",
       " io_form_history                                               2\n",
       " io_form_restart                                               2\n",
       " io_form_input                                                 2\n",
       " io_form_boundary                                              2\n",
       " debug_level                                                   0\n",
       " time_step                                                  180,\n",
       " time_step_fract_num                                          0,\n",
       " time_step_fract_den                                          1,\n",
       "...                                                          ...\n",
       " physics_suite                                           'CONUS'\n",
       " radt                                          30,    30,    30,\n",
       " bldt                                           0,     0,     0,\n",
       " cudt                                           5,     5,     5,\n",
       " icloud                                                       1,\n",
       " num_soil_layers                                              4,\n",
       " num_land_cat                                                21,\n",
       " sf_urban_physics                               0,     0,     0,\n",
       " w_damping                                                    0,\n",
       " diff_opt                                     1,      1,      1,\n",
       " km_opt                                       4,      4,      4,\n",
       " diff_6th_opt                                 0,      0,      0,\n",
       " diff_6th_factor                           0.12,   0.12,   0.12,\n",
       " base_temp                                                  290.\n",
       " damp_opt                                                     0,\n",
       " zdamp                                    5000.,  5000.,  5000.,\n",
       " dampcoef                                    0.2,    0.2,    0.2\n",
       " khdif                                        0,      0,      0,\n",
       " kvdif                                        0,      0,      0,\n",
       " non_hydrostatic                         .true., .true., .true.,\n",
       " moist_adv_opt                           1,      1,      1,     \n",
       " scalar_adv_opt                          1,      1,      1,     \n",
       " gwd_opt                                                      1,\n",
       " spec_bdy_width                                               5,\n",
       " spec_zone                                                    1,\n",
       " relax_zone                                                   4,\n",
       " specified                              .true., .false.,.false.,\n",
       " nested                                 .false., .true., .true.,\n",
       " nio_tasks_per_group                                          0,\n",
       " nio_groups                                                   1,\n",
       "\n",
       "[77 rows x 1 columns]"
      ]
     },
     "execution_count": 29,
     "metadata": {},
     "output_type": "execute_result"
    }
   ],
   "source": [
    "wrf"
   ]
  },
  {
   "cell_type": "markdown",
   "metadata": {},
   "source": [
    "#### output"
   ]
  },
  {
   "cell_type": "code",
   "execution_count": null,
   "metadata": {},
   "outputs": [],
   "source": []
  },
  {
   "cell_type": "code",
   "execution_count": null,
   "metadata": {},
   "outputs": [],
   "source": [
    "#link wps output\n",
    "ln -sf $current_dir/$case/wps/met_em.d01*  $case/wrf/\n",
    "ln -sf $current_dir/$case/wps/met_em.d02*  $case/wrf/\n",
    "ln -sf $current_dir/$case/wps/met_em.d03*  $case/wrf/\n"
   ]
  },
  {
   "cell_type": "markdown",
   "metadata": {},
   "source": [
    "## execute real.exe "
   ]
  },
  {
   "cell_type": "markdown",
   "metadata": {},
   "source": [
    "## run wrf "
   ]
  },
  {
   "cell_type": "code",
   "execution_count": null,
   "metadata": {},
   "outputs": [],
   "source": []
  }
 ],
 "metadata": {
  "kernelspec": {
   "display_name": "pyWRF",
   "language": "python",
   "name": "pywrf"
  },
  "language_info": {
   "codemirror_mode": {
    "name": "ipython",
    "version": 2
   },
   "file_extension": ".py",
   "mimetype": "text/x-python",
   "name": "python",
   "nbconvert_exporter": "python",
   "pygments_lexer": "ipython2",
   "version": "2.7.14"
  },
  "toc": {
   "nav_menu": {},
   "number_sections": true,
   "sideBar": true,
   "skip_h1_title": false,
   "title_cell": "Table of Contents",
   "title_sidebar": "Contents",
   "toc_cell": false,
   "toc_position": {},
   "toc_section_display": true,
   "toc_window_display": false
  }
 },
 "nbformat": 4,
 "nbformat_minor": 2
}
